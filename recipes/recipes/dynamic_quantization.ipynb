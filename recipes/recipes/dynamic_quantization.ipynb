{
  "cells": [
    {
      "cell_type": "code",
      "execution_count": null,
      "metadata": {
        "collapsed": false
      },
      "outputs": [],
      "source": [
        "%matplotlib inline"
      ]
    },
    {
      "cell_type": "markdown",
      "metadata": {},
      "source": [
        "\nDynamic Quantization\n====================\n\n--------------\n\nIn this recipe you will see how to take advantage of Dynamic\nQuantization to accelerate inference on an LSTM-style recurrent neural\nnetwork. This reduces the size of the model weights and speeds up model\nexecution.\n\n**Introduction**\n\nThere are a number of trade-offs that can be made when designing neural\nnetworks. During model developmenet and training you can alter the\nnumber of layers and number of parameters in a recurrent neural network\nand trade-off accuracy against model size and/or model latency or\nthroughput. Such changes can take lot of time and compute resources\nbecause you are iterating over the model training. Quantization gives\nyou a way to make a similar trade off between performance and model\naccuracy with a known model after training is completed.\n\nYou can give it a try in a single session and you will certainly reduce\nyour model size significantly and may get a significant latency\nreduction without losing a lot of accuracy.\n\n**What is dynamic quantization?**\n\nQuantizing a network means converting it to use a reduced precision\ninteger representation for the weights and/or activations. This saves on\nmodel size and allows the use of higher throughput math operations on\nyour CPU or GPU.\n\nWhen converting from floating point to integer values you are\nessentially multiplying the floating point value by some scale factor\nand rounding the result to a whole number. The various quantization\napproaches differ in the way they approach determining that scale\nfactor.\n\nThe key idea with dynamic quantization as described here is that we are\ngoing to determine the scale factor for activations dynamically based on\nthe data range observed at runtime. This ensures that the scale factor\nis \"tuned\" so that as much signal as possible about each observed\ndataset is preserved.\n\nThe model parameters on the other hand are known during model conversion\nand they are converted ahead of time and stored in INT8 form.\n\nArithmetic in the quantized model is done using vectorized INT8\ninstructions. Accumulation is typically done with INT16 or INT32 to\navoid overflow. This higher precision value is scaled back to INT8 if\nthe next layer is quantized or converted to FP32 for output.\n\nDynamic quantization is relatively free of tuning parameters which makes\nit well suited to be added into production pipelines as a standard part\nof converting LSTM models to deployment.\n\n--------------\n\n**Note: Limitations on the approach taken here**\n\nThis recipe provides a quick introduction to the dynamic quantization\nfeatures in PyTorch and the workflow for using it. Our focus is on\nexplaining the specific functions used to convert the model. We will\nmake a number of significant simplifications in the interest of brevity\nand clarity\n\n1. You will start with a minimal LSTM network\n2. You are simply going to initialize the network with a random hidden\n   state\n3. You are going to test the network with random inputs\n4. You are not going to train the network in this tutorial\n5. You will see that the quantized form of this network is smaller and\n   runs faster than the floating point network we started with\n6. You will see that the output values are generally in the same\n   ballpark as the output of the FP32 network, but we are not\n   demonstrating here the expected accuracy loss on a real trained\n   network\n\nYou will see how dynamic quantization is done and be able to see\nsuggestive reductions in memory use and latency times. Providing a\ndemonstration that the technique can preserve high levels of model\naccuracy on a trained LSTM is left to a more advanced tutorial. If you\nwant to move right away to that more rigorous treatment please proceed\nto the `advanced dynamic quantization\ntutorial <https://pytorch.org/tutorials/advanced/dynamic_quantization_tutorial.html>`__.\n\n--------------\n\n**Recipe Structure**\n\nThis recipe has 5 steps.\n\n1. Set up\n\n   Here you define a very simple LSTM, import modules, and establish\n   some random input tensors.\n\n2. Do the quantization\n\n   Here you instantiate a floating point model and then create quantized\n   version of it.\n\n3. Look at model size\n\n   Here you show that the model size gets smaller.\n\n4. Look at latency\n\n   Here you run the two models and compare model runtime (latency).\n\n5. Look at accuracy\n\n   Here you run the two models and compare outputs.\n\n**Step 1: set up**\n\nThis is a straightfoward bit of code to set up for the rest of the\nrecipe.\n\nThe unique module we are importing here is torch.quantization which\nincludes PyTorch's quantized operators and conversion functions. We also\ndefine a very simple LSTM model and set up some inputs.\n"
      ]
    },
    {
      "cell_type": "code",
      "execution_count": null,
      "metadata": {
        "collapsed": false
      },
      "outputs": [],
      "source": [
        "# import the modules used here in this recipe\nimport torch\nimport torch.quantization\nimport torch.nn as nn\nimport copy\nimport os\nimport time\n\n# define a very, very simple LSTM for demonstration purposes\n# in this case, we are wrapping nn.LSTM, one layer, no pre or post processing\n# inspired by \n# https://pytorch.org/tutorials/beginner/nlp/sequence_models_tutorial.html, by Robert Guthrie\n# and https://pytorch.org/tutorials/advanced/dynamic_quantization_tutorial.html\nclass lstm_for_demonstration(nn.Module):\n  \"\"\"Elementary Long Short Term Memory style model which simply wraps nn.LSTM\n     Not to be used for anything other than demonstration. \n  \"\"\" \n  def __init__(self,in_dim,out_dim,depth):\n     super(lstm_for_demonstration,self).__init__()\n     self.lstm = nn.LSTM(in_dim,out_dim,depth)\n\n  def forward(self,inputs,hidden):\n     out,hidden = self.lstm(inputs,hidden)\n     return out, hidden\n\n \ntorch.manual_seed(29592)  # set the seed for reproducibility\n\n#shape parameters\nmodel_dimension=8\nsequence_length=20\nbatch_size=1\nlstm_depth=1\n\n# random data for input\ninputs = torch.randn(sequence_length,batch_size,model_dimension)\n# hidden is actually is a tuple of the initial hidden state and the initial cell state\nhidden = (torch.randn(lstm_depth,batch_size,model_dimension), torch.randn(lstm_depth,batch_size,model_dimension))"
      ]
    },
    {
      "cell_type": "markdown",
      "metadata": {},
      "source": [
        "**Step 2: Do the quantization**\n\nNow we get to the fun part. First we create an instance of the model\ncalled float\\_lstm then we are going to quantize it. We're going to use\nthe\n\n::\n\n    torch.quantization.quantize_dynamic()\n\nfunction here (`see\ndocumentation <https://pytorch.org/docs/stable/quantization.html#torch.quantization.quantize_dynamic>`__)\nwhich takes the model, then a list of the submodules which we want to\nhave quantized if they appear, then the datatype we are targeting. This\nfunction returns a quantized version of the original model as a new\nmodule.\n\nThat's all it takes.\n\n\n"
      ]
    },
    {
      "cell_type": "code",
      "execution_count": null,
      "metadata": {
        "collapsed": false
      },
      "outputs": [],
      "source": [
        "# here is our floating point instance \nfloat_lstm = lstm_for_demonstration(model_dimension, model_dimension,lstm_depth)\n\n# this is the call that does the work\nquantized_lstm = torch.quantization.quantize_dynamic(\n    float_lstm, {nn.LSTM, nn.Linear}, dtype=torch.qint8\n)\n\n# show the changes that were made\nprint('Here is the floating point version of this module:')\nprint(float_lstm)\nprint('')\nprint('and now the quantized version:')\nprint(quantized_lstm)"
      ]
    },
    {
      "cell_type": "markdown",
      "metadata": {},
      "source": [
        "**Step 4. Look at the model size**\n\nOk, so we've quantized the model. What does that get us? Well the first\nbenefit is that we've replaced the FP32 model parameters with INT8\nvalues (and some recorded scale factors). This means about 75% less data\nto store and move around. With the default values the reduction shown\nbelow will be less than 75% but if you increase the model size above\n(for example you can set model dimension to something like 80) this will\nconverge towards 4x smaller as the stored model size dominated more and\nmore by the parameter values.\n\n\n"
      ]
    },
    {
      "cell_type": "code",
      "execution_count": null,
      "metadata": {
        "collapsed": false
      },
      "outputs": [],
      "source": [
        "def print_size_of_model(model, label=\"\"):\n    torch.save(model.state_dict(), \"temp.p\")\n    size=os.path.getsize(\"temp.p\")\n    print(\"model: \",label,' \\t','Size (KB):', size/1e3)\n    os.remove('temp.p')\n    return size\n\n# compare the sizes\nf=print_size_of_model(float_lstm,\"fp32\")\nq=print_size_of_model(quantized_lstm,\"int8\")\nprint(\"{0:.2f} times smaller\".format(f/q))\n\n# note that this value is wrong in PyTorch 1.4 due to https://github.com/pytorch/pytorch/issues/31468\n# this will be fixed in 1.5 with https://github.com/pytorch/pytorch/pull/31540"
      ]
    },
    {
      "cell_type": "markdown",
      "metadata": {},
      "source": [
        "**Step 4: Look at latency**\n\nThe second benefit is that the quantized model will typically run\nfaster. This is due to a combinations of effects including at least:\n\n1. Less time spent moving parameter data in\n2. Faster INT8 operations\n\nAs you will see the quantized version of this super-simple network runs\nfaster. This will generally be true of more complex networks but as they\nsay \"your milage may vary\" depending on a number of factors including\nthe structure of the model and the hardware you are running on.\n\n\n"
      ]
    },
    {
      "cell_type": "code",
      "execution_count": null,
      "metadata": {
        "collapsed": false
      },
      "outputs": [],
      "source": [
        "# compare the performance\nprint(\"Floating point FP32\")\n# %timeit float_lstm.forward(inputs, hidden)\n\nprint(\"Quantized INT8\")\n# %timeit quantized_lstm.forward(inputs,hidden)"
      ]
    },
    {
      "cell_type": "markdown",
      "metadata": {},
      "source": [
        "**Step 5: Look at accuracy**\n\nWe are not going to do a careful look at accuracy here because we are\nworking with a randomly initialized network rather than a properly\ntrained one. However, I think it is worth quickly showing that the\nquantized network does produce output tensors that are \"in the same\nballpark\" as the original one.\n\nFor a more detailed analysis please see the more advanced tutorials\nreferenced at the end of this recipe.\n\n\n"
      ]
    },
    {
      "cell_type": "code",
      "execution_count": null,
      "metadata": {
        "collapsed": false
      },
      "outputs": [],
      "source": [
        "# run the float model\nout1, hidden1 = float_lstm(inputs, hidden)\nmag1 = torch.mean(abs(out1)).item()\nprint('mean absolute value of output tensor values in the FP32 model is {0:.5f} '.format(mag1))\n\n# run the quantized model\nout2, hidden2 = quantized_lstm(inputs, hidden)\nmag2 = torch.mean(abs(out2)).item()\nprint('mean absolute value of output tensor values in the INT8 model is {0:.5f}'.format(mag2))\n\n# compare them \nmag3 = torch.mean(abs(out1-out2)).item()\nprint('mean absolute value of the difference between the output tensors is {0:.5f} or {1:.2f} percent'.format(mag3,mag3/mag1*100))"
      ]
    },
    {
      "cell_type": "markdown",
      "metadata": {},
      "source": [
        "**Summary**\n\nWe've explained what dynamic quantization is, what beenefits it brings,\nand you have used the ``torch.quantization.quantize_dynamic()`` function\nto quickly quantize a simple LSTM model.\n\n**To continue learning about dynamic quantization**\n\nThis was a fast and high level treatment of this material; for more\ndetail please continue learning with:\n\nhttps://pytorch.org/tutorials/advanced/dynamic\\_quantization\\_tutorial.html\n\n**Other resources:**\n\nDocs\n\nhttps://pytorch.org/docs/stable/quantization.html\n\nTutorials\n\nhttps://pytorch.org/tutorials/intermediate/dynamic\\_quantization\\_bert\\_tutorial.html\n\nhttps://pytorch.org/tutorials/advanced/dynamic\\_quantization\\_tutorial.html\n\nBlogs\n\nhttps://pytorch.org/blog/introduction-to-quantization-on-pytorch/\n\n"
      ]
    }
  ],
  "metadata": {
    "kernelspec": {
      "display_name": "Python 3",
      "language": "python",
      "name": "python3"
    },
    "language_info": {
      "codemirror_mode": {
        "name": "ipython",
        "version": 3
      },
      "file_extension": ".py",
      "mimetype": "text/x-python",
      "name": "python",
      "nbconvert_exporter": "python",
      "pygments_lexer": "ipython3",
      "version": "3.7.4"
    }
  },
  "nbformat": 4,
  "nbformat_minor": 0
}