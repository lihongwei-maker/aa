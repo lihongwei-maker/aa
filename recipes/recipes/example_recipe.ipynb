{
  "cells": [
    {
      "cell_type": "code",
      "execution_count": null,
      "metadata": {
        "collapsed": false
      },
      "outputs": [],
      "source": [
        "%matplotlib inline"
      ]
    },
    {
      "cell_type": "markdown",
      "metadata": {},
      "source": [
        "\nTODO: Add Recipe Title\n=======================\n\nTODO: \n      * Include 1-2 sentences summing up what the user can expect from the recipe.\n      * For example - \u201cThis samples demonstrates how to...\u201d\n\nIntroduction\n--------------\nTODO: \n      * Add why is this topic important?\n      * Ex: Provide a summary of how Integrated Gradients works and how you will teach users to implement it using Captum in this tutorial\n\nSetup\n----------------------\nTODO: \n      * Call out any required setup or data downloads\n\n\nTODO: List Steps\n-----------------\nTODO: \n      * Use the steps you introduced in the Learning Objectives\n      * Break down the steps as well as add prose for context\n      * Add comments in the code to help clarify for readers what each section is doing\n      * Link back to relevant pytorch documentation\n      * Think of it akin to creating a really practical Medium post\n\nTIPS: \n      * To denote a word or phrase as code, enclose it in double backticks (``). ``torch.Tensor``\n      * You can **bold** or *italicize* text for emphasis. \n      * Add python code directly in the file. The output will render and build on the site in a separate code block. \n        Below is an example of python code with comments.  \n        You can build this python file to see the resulting html by following the README.md at github.com/pytorch/tutorials\n"
      ]
    },
    {
      "cell_type": "code",
      "execution_count": null,
      "metadata": {
        "collapsed": false
      },
      "outputs": [],
      "source": [
        "import torch"
      ]
    },
    {
      "cell_type": "markdown",
      "metadata": {},
      "source": [
        "Because of the line of pound sign delimiters above,  this comment will show up as plain text between the code.\n\n"
      ]
    },
    {
      "cell_type": "code",
      "execution_count": null,
      "metadata": {
        "collapsed": false
      },
      "outputs": [],
      "source": [
        "x = torch.ones(2, 2, requires_grad=True)\n# Since this is a single line comment, it will show up as a comment in the code block\nprint(x)"
      ]
    },
    {
      "cell_type": "markdown",
      "metadata": {},
      "source": [
        ".. Note::\n\n      You can add Notes using this syntax\n\n"
      ]
    },
    {
      "cell_type": "markdown",
      "metadata": {},
      "source": [
        "Learn More\n----------------------------\nTODO:\n     * Link to any additional resources (e.g. Docs, other Tutorials, external resources) if readers want to learn more\n     * There are different ways add hyperlinks - \n     * For example, pasting the url works:  Read more about the ``autograd.Function`` at https://pytorch.org/docs/stable/autograd.html#function. \n     * or link to other files in this repository by their titles such as :doc:`data_parallel_tutorial`.\n     * There are also ways to add internal and external links. Check out this resource for more tips: https://thomas-cokelaer.info/tutorials/sphinx/rest_syntax.html#id4\n\n\n"
      ]
    }
  ],
  "metadata": {
    "kernelspec": {
      "display_name": "Python 3",
      "language": "python",
      "name": "python3"
    },
    "language_info": {
      "codemirror_mode": {
        "name": "ipython",
        "version": 3
      },
      "file_extension": ".py",
      "mimetype": "text/x-python",
      "name": "python",
      "nbconvert_exporter": "python",
      "pygments_lexer": "ipython3",
      "version": "3.7.4"
    }
  },
  "nbformat": 4,
  "nbformat_minor": 0
}