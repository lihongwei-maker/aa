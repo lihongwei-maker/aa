{
 "cells": [
  {
   "cell_type": "code",
   "execution_count": 1,
   "metadata": {},
   "outputs": [],
   "source": [
    "from __future__ import print_function\n",
    "import torch\n"
   ]
  },
  {
   "cell_type": "code",
   "execution_count": 2,
   "metadata": {},
   "outputs": [],
   "source": [
    "x = torch.empty(5,3)\n"
   ]
  },
  {
   "cell_type": "code",
   "execution_count": 3,
   "metadata": {},
   "outputs": [
    {
     "name": "stdout",
     "output_type": "stream",
     "text": [
      "tensor([[-2.0383e-16,  6.2778e-43, -2.0383e-16],\n",
      "        [ 6.2778e-43, -2.0383e-16,  6.2778e-43],\n",
      "        [-2.0383e-16,  6.2778e-43, -2.0379e-16],\n",
      "        [ 6.2778e-43, -2.0379e-16,  6.2778e-43],\n",
      "        [-2.0379e-16,  6.2778e-43, -2.0379e-16]])\n"
     ]
    }
   ],
   "source": [
    "print(x)\n",
    "#UNINTIALIZED MATRIX"
   ]
  },
  {
   "cell_type": "code",
   "execution_count": 4,
   "metadata": {},
   "outputs": [
    {
     "name": "stdout",
     "output_type": "stream",
     "text": [
      "tensor([[0.8968, 0.4670, 0.8033],\n",
      "        [0.4299, 0.3046, 0.0041],\n",
      "        [0.2520, 0.8879, 0.8081],\n",
      "        [0.0903, 0.5791, 0.2929],\n",
      "        [0.3822, 0.5914, 0.1326]])\n"
     ]
    }
   ],
   "source": [
    "#RANDOMIZED MATRIX\n",
    "x=torch.rand(5,3)\n",
    "print(x)"
   ]
  },
  {
   "cell_type": "code",
   "execution_count": 5,
   "metadata": {},
   "outputs": [
    {
     "name": "stdout",
     "output_type": "stream",
     "text": [
      "tensor([[0, 0, 0],\n",
      "        [0, 0, 0],\n",
      "        [0, 0, 0],\n",
      "        [0, 0, 0],\n",
      "        [0, 0, 0]])\n"
     ]
    }
   ],
   "source": [
    "#A MATRIX FILLED WITH ZEROS AND DTYPE LONG\n",
    "x = torch.zeros(5,3, dtype= torch.long)\n",
    "print(x)"
   ]
  },
  {
   "cell_type": "code",
   "execution_count": 6,
   "metadata": {},
   "outputs": [],
   "source": [
    "#for filling values directly into matrix\n",
    "x= torch.tensor([5.5, 3])"
   ]
  },
  {
   "cell_type": "code",
   "execution_count": 9,
   "metadata": {},
   "outputs": [
    {
     "name": "stdout",
     "output_type": "stream",
     "text": [
      "tensor([5.5000, 3.0000])\n"
     ]
    }
   ],
   "source": [
    "print(x)\n"
   ]
  },
  {
   "cell_type": "code",
   "execution_count": 10,
   "metadata": {},
   "outputs": [
    {
     "name": "stdout",
     "output_type": "stream",
     "text": [
      "tensor([[1., 1., 1.],\n",
      "        [1., 1., 1.],\n",
      "        [1., 1., 1.],\n",
      "        [1., 1., 1.],\n",
      "        [1., 1., 1.]], dtype=torch.float64)\n"
     ]
    }
   ],
   "source": [
    "x = x.new_ones(5,3, dtype= torch.double)\n",
    "print(x)\n"
   ]
  },
  {
   "cell_type": "code",
   "execution_count": 11,
   "metadata": {},
   "outputs": [
    {
     "name": "stdout",
     "output_type": "stream",
     "text": [
      "tensor([[1.1868, 1.5070, 1.7972],\n",
      "        [1.2315, 1.8493, 1.4461],\n",
      "        [1.4230, 1.2287, 1.2091],\n",
      "        [1.5963, 1.1159, 1.2049],\n",
      "        [1.8872, 1.7472, 1.4399]], dtype=torch.float64)\n"
     ]
    }
   ],
   "source": [
    "#operations\n",
    "y = torch.rand(5, 3)\n",
    "print(x + y)"
   ]
  },
  {
   "cell_type": "code",
   "execution_count": 12,
   "metadata": {},
   "outputs": [
    {
     "name": "stdout",
     "output_type": "stream",
     "text": [
      "tensor([[1.1868, 1.5070, 1.7972],\n",
      "        [1.2315, 1.8493, 1.4461],\n",
      "        [1.4230, 1.2287, 1.2091],\n",
      "        [1.5963, 1.1159, 1.2049],\n",
      "        [1.8872, 1.7472, 1.4399]], dtype=torch.float64)\n"
     ]
    }
   ],
   "source": [
    "print(torch.add(x,y))"
   ]
  },
  {
   "cell_type": "code",
   "execution_count": 13,
   "metadata": {},
   "outputs": [
    {
     "name": "stdout",
     "output_type": "stream",
     "text": [
      "tensor([1., 1., 1., 1., 1.], dtype=torch.float64)\n"
     ]
    }
   ],
   "source": [
    "#indexing\n",
    "print(x[:,1])"
   ]
  },
  {
   "cell_type": "code",
   "execution_count": 15,
   "metadata": {},
   "outputs": [
    {
     "name": "stdout",
     "output_type": "stream",
     "text": [
      "torch.Size([4, 4]) torch.Size([16]) torch.Size([2, 8])\n"
     ]
    }
   ],
   "source": [
    "#resizing\n",
    "x= torch.randn(4,4)\n",
    "y= x.view(16)\n",
    "z=x.view(-1,8)\n",
    "print(x.size(),y.size(),z.size())"
   ]
  },
  {
   "cell_type": "code",
   "execution_count": 17,
   "metadata": {},
   "outputs": [
    {
     "name": "stdout",
     "output_type": "stream",
     "text": [
      "tensor([[ 0.5562, -0.2344,  0.7991,  0.9772],\n",
      "        [ 0.0628,  2.3337,  1.9738,  2.2606],\n",
      "        [ 1.1040,  1.2054, -2.1375,  1.1710],\n",
      "        [ 4.6405,  0.3429,  0.7307,  1.6314]], device='cuda:0')\n",
      "tensor([[ 0.5562, -0.2344,  0.7991,  0.9772],\n",
      "        [ 0.0628,  2.3337,  1.9738,  2.2606],\n",
      "        [ 1.1040,  1.2054, -2.1375,  1.1710],\n",
      "        [ 4.6405,  0.3429,  0.7307,  1.6314]], dtype=torch.float64)\n"
     ]
    }
   ],
   "source": [
    "#CUDA TENSOR\n",
    "if torch.cuda.is_available():\n",
    "    device = torch.device(\"cuda\")\n",
    "    y=torch.ones_like(x, device = device )\n",
    "    x = x.to(device)                       # or just use strings ``.to(\"cuda\")``\n",
    "    z=x+y\n",
    "    print(z)\n",
    "    print(z.to(\"cpu\", torch.double))"
   ]
  },
  {
   "cell_type": "code",
   "execution_count": null,
   "metadata": {},
   "outputs": [],
   "source": []
  }
 ],
 "metadata": {
  "kernelspec": {
   "display_name": "Python 3",
   "language": "python",
   "name": "python3"
  },
  "language_info": {
   "codemirror_mode": {
    "name": "ipython",
    "version": 3
   },
   "file_extension": ".py",
   "mimetype": "text/x-python",
   "name": "python",
   "nbconvert_exporter": "python",
   "pygments_lexer": "ipython3",
   "version": "3.7.4"
  }
 },
 "nbformat": 4,
 "nbformat_minor": 2
}
