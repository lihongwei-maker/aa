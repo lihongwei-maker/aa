{
 "cells": [
  {
   "cell_type": "markdown",
   "metadata": {},
   "source": [
    "# PyTorch Neural-Transfert tutorial\n",
    "\n",
    "## Introduction\n",
    "\n",
    "Welcome! This tutorial explains how to impletment the [Neural-Style](https://arxiv.org/abs/1508.06576) algorithm developed by Leon A. Gatys, Alexander S. Ecker and Matthias Bethge.\n",
    "\n",
    "### Neural what?\n",
    "\n",
    "The Neural-Style, or Neural-Transfert, is an algorithm that taks as input a content-image (e.g. a tortle), a style-image (e.g. artistic waves) and return the content of the content-image as if it was 'painted' using the artistic style of the style-image:\n",
    "\n",
    "![content1](images/neuralstyle.png)\n",
    "\n",
    "### How does it work?\n",
    "\n",
    "The principe is simple: we define two distances, one for the content ($D_C$) and one for the style ($D_S$). $D_C$ measues how different is the content between two images, while $D_S$ measures how different is the style between two images. Then, we take a third image, the input, (e.g. a with noise), and we transform it in order to both minimize its content-distance with the content-image and its style-distance with the style-image. \n",
    "\n",
    "### OK. How does it work?\n",
    "\n",
    "Well, going further requires some mathematics. Let $C_{nn}$ be a pre-trained deep convolutional neural network and $X$ be any image. $C_{nn}(X)$ is the network fed by $X$ (containing feature maps at all layers). Let $F_{XL} \\in C_{nn}(X)$ be the feature maps at depth layer $L$, all vectorized and concatenated in one single vector. We simply define the content of $X$ at layer $L$ by $F_{XL}$. Then, if $Y$ is another image of same the size than $X$, we define the distance of content at layer $L$ as follow:\n",
    "\n",
    "$$D_C^L(X,Y) = \\|F_{XL} - F_{YL}\\|^2 = \\sum_i (F_{XL}(i) - F_{YL}(i))^2$$\n",
    "\n",
    "Where $F_{XL}(i)$ is the $i^{th}$ element of $F_{XL}$. The style is a bit less trivial to define. Let $F_{XL}^k$ with $k \\leq K$ be the vectorized $k^{th}$ of the $K$ feature maps at layer $L$. The style $G_{XL}$ of $X$ at layer $L$ is defined by the Gram produce of all vectorized feature maps $F_{XL}^k$ with $k \\leq K$. In other words, $G_{XL}$ is a $K$x$K$ matrix and the element $G_{XL}(k,l)$ at the $k^{th}$ line and $l^{th}$ column of $G_{XL}$ is the vectorial produce between  $F_{XL}^k$ and $F_{XL}^l$:\n",
    "\n",
    "$$G_{XL}(k,l) = \\langle F_{XL}^k, F_{XL}^l\\rangle = \\sum_i F_{XL}^k(i) . F_{XL}^l(i)$$\n",
    "\n",
    "Where $F_{XL}^k(i)$ is the $i^{th}$ element of $F_{XL}^k$. We can see $G_{XL}(k,l)$ as a measure of the correlation between feature maps $k$ and $l$. In that way, $G_{XL}$ represents the correlation matrix of feature maps of $X$ at layer $L$. Note that the size of $G_{XL}$ only depends on the number of feature maps, not on the size of $X$. Then, if $Y$ is another image *of any size*, we define the distance of style at layer $L$ as follow:\n",
    "\n",
    "$$D_S^L(X,Y) = \\|G_{XL} - G_{YL}\\|^2 = \\sum_{k,l} (F_{XL}(k,l) - F_{YL}(k,l))^2$$\n",
    "\n",
    "In order to minimize in one shot $D_C(X,C)$ between a variable image $X$ and target content-image $C$ and $D_S(X,S)$ between $X$ and target style-image $S$, both computed at several layers , we compute and sum the gradients (derivative with respect to $X$) of each distance at each wanted layer:\n",
    "\n",
    "$$\\nabla_{\\textit{total}}(X,S,C) = \\sum_{L_C} w_{CL_C}.\\nabla_{\\textit{content}}^{L_C}(X,C) + \\sum_{L_S} w_{SL_S}.\\nabla_{\\textit{style}}^{L_S}(X,S)$$\n",
    "\n",
    "Where $L_C$ and $L_S$ are respectivement the wanted layers (arbitrary stated) of content and style and $w_{CL_C}$ and $w_{SL_S}$ the weights (arbitrary stated) associated with the style or the content at each wanted layer. Then, we run a gradient descent over $X$:\n",
    "\n",
    "$$X \\leftarrow X - \\alpha \\nabla_{\\textit{total}}(X,S,C)$$\n",
    "\n",
    "Ok. That's enough with maths. If you want to go deeper (how to compute the gradients) **we encourage you to read the original paper** by Leon A. Gatys and AL, where everything is much better and much clearer explained. For our implementation in PyTorch, we already have everything we need: indeed, with PyTorch, all the gradients are automatically and dynamically computed for you (while you use functions from the library). This is why the implementation of this algorithm becomes very confortable with PyTorch. \n",
    "\n",
    "## PyTorch implementation\n",
    "\n",
    "If you are not sure to understand all the mathematics above, you will probably get it by implementing it. If you are discovering PyTorch, we recommend you to first read this [Introduction to PyTorch](https://github.com/pytorch/tutorials/blob/master/Deep%20Learning%20with%20PyTorch.ipynb).\n",
    "\n",
    "### Packages\n",
    "\n",
    "We will have recourse to the following packages:\n",
    "\n",
    "* `torch`, `torch.nn`, `numpy` (indispensables packages for neural networks with PyTorch)\n",
    "* `torch.autograd.Variable` (dynamic computation of the gradient wrt a variable)\n",
    "* `torch.optim` (efficient gradient descents)\n",
    "* `PIL`, `PIL.Image`, `matplotlib.pyplot` (load and display images)\n",
    "* `torchvision.transforms` (treat PIL images and transform into torch tensors)\n",
    "* `torchvision.models` (train or load pre-trained models)"
   ]
  },
  {
   "cell_type": "code",
   "execution_count": null,
   "metadata": {
    "collapsed": true
   },
   "outputs": [],
   "source": [
    "import numpy as np\n",
    "\n",
    "import torch\n",
    "import torch.nn as nn\n",
    "from torch.autograd import Variable\n",
    "import torch.optim as optim\n",
    "\n",
    "import PIL\n",
    "from PIL import Image\n",
    "import matplotlib.pyplot as plt\n",
    "\n",
    "import torchvision.transforms as transforms\n",
    "import torchvision.models as models"
   ]
  },
  {
   "cell_type": "markdown",
   "metadata": {},
   "source": [
    "### Cuda\n",
    "\n",
    "In this tutorial, we are assuming you have a GPU with cuda installed and that you want to use it. If you dont, just remove all the ''`.cuda()`'' and the ''`.cpu()`'' in the exemple codes. They are used to moove allocated proccesses associated with a variable (or a torch module) from the CPU to the GPU and vice versa.\n",
    "\n",
    "### Load images\n",
    "\n",
    "In order to simplify the implementation, let's start by importing a style and a content image of the same dimentions. We then scale them to the desired output image size (200 in the example) and transform them into torch tensors, ready to feed a neural network:"
   ]
  },
  {
   "cell_type": "code",
   "execution_count": null,
   "metadata": {
    "collapsed": true
   },
   "outputs": [],
   "source": [
    "imsize = 200 # desired size of the output image\n",
    "\n",
    "loader = transforms.Compose([\n",
    "            transforms.Scale(imsize), # scale imported image\n",
    "            transforms.ToTensor()]) # transform it into a torch tensor\n",
    "\n",
    "def image_loader(image_name):\n",
    "    image = Image.open(image_name)\n",
    "    image = Variable(loader(image))\n",
    "    image = image.unsqueeze(0) # fake batch dimension required to fit network's input dimensions\n",
    "    return image\n",
    "\n",
    "style = image_loader(\"images/picasso.jpg\").cuda()\n",
    "content = image_loader(\"images/dancing.jpg\").cuda()\n",
    "\n",
    "assert style.data.size() == content.data.size(), \"we need to import style and content images of the same size\""
   ]
  },
  {
   "cell_type": "markdown",
   "metadata": {},
   "source": [
    "Imported PIL images has values between 0 and 255. Transformed into torch tensors, their values are between 0 and 1. This is an important detail: neural networks from torch library are trained with 0-1 tensor image. If you try to feed the networks with 0-255 tensor images the activated feature maps will have no sens. This is not the case with pre-trained networks from the Caffe library: they are trained with 0-255 tensor images.\n",
    "\n",
    "### Display images\n",
    "\n",
    "We will use `plt.imshow` to display images. So we need to first reconvert them into PIL images:"
   ]
  },
  {
   "cell_type": "code",
   "execution_count": null,
   "metadata": {
    "collapsed": true
   },
   "outputs": [],
   "source": [
    "unloader = transforms.ToPILImage() # reconvert into PIL image\n",
    "\n",
    "def imshow(tensor):\n",
    "    image = tensor.clone().cpu() # we clone the tensor in order to not do changes on it\n",
    "    image.resize_(3,imsize,imsize) # remove the fake batch dimension\n",
    "    image = unloader(image)\n",
    "    plt.imshow(image)\n",
    "    \n",
    "fig = plt.figure()\n",
    "\n",
    "plt.subplot(221)\n",
    "imshow(style.data)\n",
    "plt.subplot(222)\n",
    "imshow(content.data)"
   ]
  },
  {
   "cell_type": "markdown",
   "metadata": {},
   "source": [
    "### Content loss\n",
    "\n",
    "The content loss is a function that takes as input the feature maps $F_{XL}$ at a layer $L$ in a network fed by $X$ and return the weigthed content distance $w_{CL}.D_C^L(X,C)$ between this image and the content image. Hence, the weight $w_{CL}$ and the target content $F_{CL}$ are parameters of the function. We implement this function as a torch module with a constructor that takes these parameters as input. The distance $\\|F_{XL} - F_{YL}\\|^2$ is the Mean Square Error between the two sets of feature maps, that can be computed using a criterion `nn.MSELoss` stated as a third parameter.\n",
    "\n",
    "We will add our content losses at each desired layer as additive modules of the neural network. That way, each time we will feed the network with an input image $X$, all the content losses will be computed at the desired layers and, thanks to autograd, all the gradients will be computed. For that, we just need to make the `forward` method of our module returning the input: the module becomes a ''transparent layer'' of the neural network. The computed loss is saved as a parameter of the module.\n",
    "\n",
    "Finally, we define a fake `backward` method, that just call the backward method of `nn.MSELoss` in order to reconstruct the gradient. This method returns the computed loss: this will be usefull when running the gradien descent in order to display the evolution of style and content losses."
   ]
  },
  {
   "cell_type": "code",
   "execution_count": null,
   "metadata": {
    "collapsed": true
   },
   "outputs": [],
   "source": [
    "class ContentLoss(nn.Module):\n",
    "    def __init__(self, target, weight):\n",
    "        super(ContentLoss, self).__init__()\n",
    "        self.target = target.detach() * weight # we 'detach' the target content from the tree used\n",
    "                                               # to dynamically compute the gradient: this is a stated value, \n",
    "                                               # not a variable. Otherwise the forward method of the criterion\n",
    "                                               # will throw an error.\n",
    "        self.weight = weight\n",
    "        self.criterion = nn.MSELoss()\n",
    "\n",
    "    def forward(self, input):\n",
    "        self.loss = self.criterion.forward(input*self.weight, self.target)\n",
    "        self.output = input\n",
    "        return self.output\n",
    "\n",
    "    def backward(self, retain_variables=True):\n",
    "        self.loss.backward(retain_variables=retain_variables)\n",
    "        return self.loss.data[0]"
   ]
  },
  {
   "cell_type": "markdown",
   "metadata": {},
   "source": [
    "**Important detail**: this module, although it is named `ContentLoss`, is not a true PyTorch Loss function. If you want to define your content loss as a PyTorch Loss, you have to create a PyTorch autograd Function and to recompute/implement the gradient by the hand in the `backward` method. \n",
    "\n",
    "### Style loss\n",
    "\n",
    "For the style loss, we need first to define a module that compute the gram produce $G_{XL}$ given the feature maps $F_{XL}$ of the neural network fed by $X$, at layer $L$. Let $\\hat{F}_{XL}$ be the re-shaped version of $F_{XL}$ into a $K$x$N$ matrix, where $K$ is the number of feature maps at layer $L$ and $N$ the lenght of any vectorized feature map $F_{XL}^k$. The $k^{th}$ line of $\\hat{F}_{XL}$ is $F_{XL}^k$. We let you check that $\\hat{F}_{XL} \\cdot \\hat{F}_{XL}^T = G_{XL}$. Given that, it becomes easy to implement our module:"
   ]
  },
  {
   "cell_type": "code",
   "execution_count": null,
   "metadata": {
    "collapsed": true
   },
   "outputs": [],
   "source": [
    "class GramMatrix(nn.Module):\n",
    "    def forward(self, input):\n",
    "        a,b,c,d = input.data.size() # a=batch size(=1)\n",
    "                                    # b=number of feature maps\n",
    "                                    # (c,d)=dimensions of a f. map (N=c*d)\n",
    "                \n",
    "        input.data.resize_(a*b,c*d) # resise F_XL into \\hat F_XL\n",
    "        \n",
    "        G = torch.mm(input, input.t()) # compute the gram product\n",
    "        \n",
    "        return G.div_(a*b*c*d) # we 'normalize' the values of the gram matrix\n",
    "                           # by dividing by the number of element in each feature maps."
   ]
  },
  {
   "cell_type": "markdown",
   "metadata": {},
   "source": [
    "The longer is the feature maps dimension $N$, the bigger are the values of the gram matrix. Therefore, if we dont normalize by $N$, the loss computed at the first layers (before pooling layers) will have much more importance during the gradient descent. We dont want that, since the most interesting style features are in the deepest layers!\n",
    "\n",
    "Then, the style loss module is implemented exactly the same way than the content loss module, but we have to add the `gramMatrix` as a parameter:"
   ]
  },
  {
   "cell_type": "code",
   "execution_count": null,
   "metadata": {
    "collapsed": true
   },
   "outputs": [],
   "source": [
    "class StyleLoss(nn.Module):\n",
    "    def __init__(self, target, strength):\n",
    "        super(StyleLoss, self).__init__()\n",
    "        self.target = target.detach()*strength\n",
    "        self.strength = strength\n",
    "        self.gram = GramMatrix()\n",
    "        self.criterion = nn.MSELoss()\n",
    "\n",
    "    def forward(self, input):\n",
    "        self.output = input.clone()\n",
    "        self.G = self.gram.forward(input)\n",
    "        self.G.mul_(self.strength)\n",
    "        self.loss = self.criterion.forward(self.G, self.target)\n",
    "        return self.output\n",
    "\n",
    "    def backward(self, retain_variables=True):\n",
    "        self.loss.backward(retain_variables=retain_variables)\n",
    "        return self.loss.data[0]"
   ]
  },
  {
   "cell_type": "markdown",
   "metadata": {},
   "source": [
    "### Load the neural network\n",
    "\n",
    "Now, we have to import a pre-trained neural network. In the original paper, they obtain beautiful results using a re-trained VGG network with 19 layers. Unfortunatly, pre-trained VGG models are not available yet with the PyTorch library, but you can train your own VGG via [this example](https://github.com/pytorch/examples/tree/master/imagenet) or [load VGG caffe models](https://github.com/szagoruyko/loadcaffe). Right now, let's use a pre-trained AlexNet, available with PyTorch.\n",
    "\n",
    "PyTorch's implementation of AlexNet is a module divided in two child `Sequential` modules: `features` (containing convolution and pooling layers) and `classifier` (containing fully connected layers). We are just interested by `features`:"
   ]
  },
  {
   "cell_type": "code",
   "execution_count": null,
   "metadata": {
    "collapsed": true
   },
   "outputs": [],
   "source": [
    "cnn = models.alexnet(pretrained=True).features.cuda()"
   ]
  },
  {
   "cell_type": "markdown",
   "metadata": {},
   "source": [
    "A `Sequential` module contains an ordered list of child modules. For instance, `alexnet.features` contains a sequence (Conv2d, ReLU, Maxpool2d, Conv2d, ReLU...) aligned in the right order of depth. As we said in *Content loss* section, we wand to add our style and content loss modules as additive 'transparent' layers in our network, at desired depths. For that, we construct a new `Sequential` module, in wich we are going to add modules from `alexnet` and our loss modules in the right order:"
   ]
  },
  {
   "cell_type": "code",
   "execution_count": null,
   "metadata": {
    "collapsed": true
   },
   "outputs": [],
   "source": [
    "# desired depth layers to compute style/content losses :\n",
    "content_layers = ['conv_3','conv_4']\n",
    "style_layers = ['conv_1','conv_2','conv_3','conv_4','conv_5']\n",
    "\n",
    "# just in order to have an iterable access to or list of content/syle losses\n",
    "content_losses = []\n",
    "style_losses = []\n",
    "\n",
    "art_net = nn.Sequential().cuda() # the new Sequential module network\n",
    "gram = GramMatrix().cuda() # we need a gram module in order to compute style targets\n",
    "\n",
    "# weigth associated with content and style losses\n",
    "content_weight = 5\n",
    "style_weight = 500\n",
    "\n",
    "i = 1\n",
    "for layer in list(cnn):\n",
    "    if isinstance(layer,nn.Conv2d):\n",
    "        name = \"conv_\"+str(i)\n",
    "        art_net.add_module(name,layer)\n",
    "\n",
    "        if name in content_layers:\n",
    "            # add content loss:\n",
    "            target = art_net.forward(content.cuda()).clone()\n",
    "            content_loss = ContentLoss(target, content_weight).cuda()\n",
    "            art_net.add_module(\"content_loss_\"+str(i),content_loss)\n",
    "            content_losses.append(content_loss)\n",
    "\n",
    "        if name in style_layers:\n",
    "            # add style loss:\n",
    "            target_feature = art_net.forward(style.cuda()).clone()\n",
    "            target_feature_gram = gram.forward(target_feature)\n",
    "            style_loss = StyleLoss(target_feature_gram, style_weight).cuda()\n",
    "            art_net.add_module(\"style_loss_\"+str(i),style_loss)\n",
    "            style_losses.append(style_loss)\n",
    "\n",
    "    if isinstance(layer,nn.ReLU):\n",
    "        name = \"relu_\"+str(i)\n",
    "        art_net.add_module(name,layer)\n",
    "\n",
    "        if name in content_layers:\n",
    "            # add content loss:\n",
    "            target = art_net.forward(content.cuda()).clone()\n",
    "            content_loss = ContentLoss(target, content_weight).cuda()\n",
    "            art_net.add_module(\"content_loss_\"+str(i),content_loss)\n",
    "            content_losses.append(content_loss)\n",
    "\n",
    "        if name in style_layers:\n",
    "            # add style loss:\n",
    "            target_feature = art_net.forward(style.cuda()).clone()\n",
    "            target_feature_gram = gram.forward(target_feature)\n",
    "            style_loss = StyleLoss(target_feature_gram, style_weight).cuda()\n",
    "            art_net.add_module(\"style_loss_\"+str(i),style_loss)\n",
    "            style_losses.append(style_loss)\n",
    "\n",
    "        i+=1\n",
    "\n",
    "    if isinstance(layer,nn.MaxPool2d):\n",
    "        name = \"pool_\"+str(i)\n",
    "        art_net.add_module(name,layer) # ***\n"
   ]
  },
  {
   "cell_type": "markdown",
   "metadata": {},
   "source": [
    "\\*\\*\\* In the paper they recommend to change max pooling layers into average pooling. With AlexNet, that is a small network compared to VGG19 used in the paper, we are not going to see any difference of quality in the result. However, you can use these lines instead if you want to do this substitution:"
   ]
  },
  {
   "cell_type": "code",
   "execution_count": null,
   "metadata": {
    "collapsed": true
   },
   "outputs": [],
   "source": [
    "avgpool = nn.AvgPool2d(kernel_size=layer.kernel_size, stride=layer.stride, padding = layer.padding)\n",
    "art_net.add_module(name,avgpool)"
   ]
  },
  {
   "cell_type": "markdown",
   "metadata": {},
   "source": [
    "### Input image\n",
    "\n",
    "Again, in order to simplify the code, we take an image of the same dimensions than content and style images. This image can be a white noise, or it can also be a copy of the content-image. "
   ]
  },
  {
   "cell_type": "code",
   "execution_count": null,
   "metadata": {
    "collapsed": true
   },
   "outputs": [],
   "source": [
    "input = image_loader(\"images/dancing.jpg\").cuda()\n",
    "# if we want to fill it with a white noise:\n",
    "input.data = torch.randn(input.data.size()).cuda()\n",
    "\n",
    "# add the original input image to the figure:\n",
    "plt.subplot(223)\n",
    "imshow(input.data)"
   ]
  },
  {
   "cell_type": "markdown",
   "metadata": {},
   "source": [
    "### Gradient descent\n",
    "\n",
    "Let's use an Adam optimizer with a learning rate 0.01 to run our gradient descent. Unlike training a network, we want to train the input image in order to minimise the content/style losses. We would like to simply create a PyTorch Adam optimizer, passing our image as the variable to optimize. But `optim.Adam` takes as first argument a list of PyTorch `Variable` that require gradient. Our input image is a `Variable` but is not a leaf of the tree that requires computatioon of gradients. In order to show that this variable requires a gradient, a possibility is to construct a `Parameter` object from the input image. Then, we just give a list containing this `Parameter` to the optimizer's constructor:"
   ]
  },
  {
   "cell_type": "code",
   "execution_count": null,
   "metadata": {
    "collapsed": true
   },
   "outputs": [],
   "source": [
    "input = nn.Parameter(input.data) # this line to show that input is\n",
    "                                 # a parameter that requires a gradient\n",
    "optimizer = optim.Adam([input], lr = 0.01)"
   ]
  },
  {
   "cell_type": "markdown",
   "metadata": {},
   "source": [
    "Last step: the loop of gradient descent. At each step, we must feed the network with the updated input in order to compute the new losses, we must run the `backward` methods of each loss to dynamically compute their gradients and perform the step of gradient descent:"
   ]
  },
  {
   "cell_type": "code",
   "execution_count": null,
   "metadata": {
    "collapsed": true
   },
   "outputs": [],
   "source": [
    "# -- WRONG CODE --\n",
    "\n",
    "for run in range(1000):\n",
    "    optimizer.zero_grad()\n",
    "    art_net.forward(input) # feed the network with the updated input image\n",
    "    style_score = 0\n",
    "    content_score = 0\n",
    "\n",
    "    for sl in style_losses:\n",
    "        style_score += sl.backward() # run style losses backward\n",
    "    for cl in content_losses:\n",
    "        content_score += cl.backward() # run content losses backward\n",
    "\n",
    "    optimizer.step() # update input image with descent's step\n",
    "\n",
    "    if run%50==0:\n",
    "        print \"run \"+str(run)+\":\"\n",
    "        print \"style loss: \"+str(style_score)\n",
    "        print \"content loss: \"+str(content_score)\n",
    "        \n",
    "# finally enjoy the result:\n",
    "plt.subplot(224)\n",
    "imshow(input.data)\n",
    "plt.show()"
   ]
  },
  {
   "cell_type": "markdown",
   "metadata": {},
   "source": [
    "If you try the code just above, you will obtain a beautiful white noise! Indeed, there is a last trick: the resulting optimized image takes its values between $-\\infty$ and $+\\infty$ instead of staying between 0 and 1. In other words, the image is well optimized, but has absurd values. In fact, we must perform an optimization under constraints in order to keep having right vaues into our input image. There is a simple solution: at each step, to correct the image to maintain its values into the 0-1 interval. "
   ]
  },
  {
   "cell_type": "code",
   "execution_count": null,
   "metadata": {
    "collapsed": true
   },
   "outputs": [],
   "source": [
    "# -- CORRECT CODE --\n",
    "\n",
    "for run in range(500):\n",
    "\n",
    "    # correct the values of updated input image\n",
    "    updated = input.data.cpu().clone()\n",
    "    updated = updated.numpy()\n",
    "    updated[updated<0] = 0\n",
    "    updated[updated>1] = 1\n",
    "    input.data = torch.from_numpy(updated).cuda()\n",
    "\n",
    "    optimizer.zero_grad()\n",
    "    art_net.forward(input.image)\n",
    "    style_score = 0\n",
    "    content_score = 0\n",
    "\n",
    "    for sl in style_losses:\n",
    "        style_score += sl.backward()\n",
    "    for cl in content_losses:\n",
    "        content_score += cl.backward()\n",
    "\n",
    "    optimizer.step()\n",
    "\n",
    "    if run%10==0:\n",
    "        print \"run \"+str(run)+\":\"\n",
    "        print style_score\n",
    "        print content_score\n",
    "\n",
    "# a last correction...\n",
    "result = input.data.cpu().clone()\n",
    "result = result.numpy()\n",
    "result[result<0] = 0\n",
    "result[result>1] = 1\n",
    "result = torch.from_numpy(result)\n",
    "\n",
    "# finally enjoy the result:\n",
    "plt.subplot(224)\n",
    "imshow(input.data)\n",
    "plt.show()"
   ]
  },
  {
   "cell_type": "markdown",
   "metadata": {},
   "source": [
    "### Results\n",
    "\n",
    "You should obtain something similar to this:\n",
    "![result](images/result_random.png)\n",
    "You are probably desapointed by this result. Ok, we can do a bit better by starting from the content image instead of a white noise:\n",
    "![result](images/result_content.png)\n",
    "But this is normal to obtain something creepy: we are using a small network with just 5 convolution layers. In the paper, they obtain beautifull images using the 19 convolution layers of VGG19. If you want, we encourage you to test this code with a VGG19 network and play with parameters: style/content layer depths, style/content weights, learning rate, input (random or content-image)... \n",
    "\n",
    "With exactly the same code but using a pre-trained VGG19 network and playing with parameters, we obtained this result:\n",
    "\n",
    "![result](images/vgg19_result.png)"
   ]
  },
  {
   "cell_type": "code",
   "execution_count": null,
   "metadata": {
    "collapsed": true
   },
   "outputs": [],
   "source": []
  }
 ],
 "metadata": {
  "celltoolbar": "Edit Metadata",
  "kernelspec": {
   "display_name": "Python 3",
   "language": "python",
   "name": "python3"
  },
  "language_info": {
   "codemirror_mode": {
    "name": "ipython",
    "version": 3
   },
   "file_extension": ".py",
   "mimetype": "text/x-python",
   "name": "python",
   "nbconvert_exporter": "python",
   "pygments_lexer": "ipython3",
   "version": "3.5.2"
  }
 },
 "nbformat": 4,
 "nbformat_minor": 2
}
