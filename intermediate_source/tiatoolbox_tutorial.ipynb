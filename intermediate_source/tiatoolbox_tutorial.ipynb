{
 "cells": [
  {
   "cell_type": "markdown",
   "metadata": {
    "id": "YWsXrOQGyiNu"
   },
   "source": [
    "# Patch Prediction Models\n",
    "\n",
    "Click to open in: \\[[GitHub](https://github.com/TissueImageAnalytics/tiatoolbox/blob/develop/examples/05-patch-prediction.ipynb)\\]\\[[Colab](https://colab.research.google.com/github/TissueImageAnalytics/tiatoolbox/blob/develop/examples/05-patch-prediction.ipynb)\\]\n",
    "\n"
   ]
  },
  {
   "cell_type": "markdown",
   "metadata": {
    "id": "Rc067beJIG86",
    "tags": [
     "remove-cell"
    ]
   },
   "source": [
    "## About this notebook!!!!!\n",
    "\n",
    "This jupyter notebook can be run on any computer with a standard browser and no prior installation of any programming language is required. It can run remotely over the Internet, free of charge, thanks to Google Colaboratory. To connect with Colab, click on one of the two blue checkboxes above. Check that \"colab\" appears in the address bar. You can right-click on \"Open in Colab\" and select \"Open in new tab\" if the left click does not work for you. Familiarize yourself with the drop-down menus near the top of the window. You can edit the notebook during the session, for example substituting your own image files for the image files used in this demo. Experiment by changing the parameters of functions. It is not possible for an ordinary user to permanently change this version of the notebook on GitHub or Colab, so you cannot inadvertently mess it up. Use the notebook's File Menu if you wish to save your own (changed) notebook!\n",
    "\n",
    "To run the notebook on any platform, except for Colab, set up your Python environment, as explained in the\n",
    "[README](https://github.com/TIA-Lab/tiatoolbox/blob/master/README.md#install-python-package) file.\n",
    "\n"
   ]
  },
  {
   "cell_type": "markdown",
   "metadata": {
    "id": "yLUSqCAMyiNz"
   },
   "source": [
    "### About this demo\n",
    "\n",
    "In this tutorial, we show how to perform patch-level prediction using deep learning models. To do that, we use the patch prediction module from TIAToolbox. It can perform patch prediction for pre-extracted image patches or larger image tiles / whole-slide images (WSIs), where image patches are extracted on the fly. WSI patch-level predictions can subsequently be aggregated to obtain a segmentation map. The module `patch_predictor` ([details](https://tia-toolbox.readthedocs.io/en/latest/usage.html?highlight=patch_predictor#module-tiatoolbox.models.engine.patch_predictor)) receive a patch and segment it into different labels. \n",
    "\n",
    "A full list of the available models trained and provided in TIAToolbox for patch-level prediction is given below.\n",
    "\n",
    "- Models trained on the Kather 100k dataset ([details](https://zenodo.org/record/1214456#.YJw4UEhKjvU)):\n",
    "  - `alexnet-kather100k`\n",
    "  - `resnet18-kather100k`\n",
    "  - `resnet34-kather100k`\n",
    "  - `resnet50-kather100k`\n",
    "  - `resnet101-kather100k`\n",
    "  - `resnext50_32x4d-kather100k`\n",
    "  - `resnext101_32x8d-kather100k`\n",
    "  - `wide_resnet50_2-kather100k`\n",
    "  - `wide_resnet101_2-kather100k`\n",
    "  - `densenet121-kather100k`\n",
    "  - `densenet161-kather100k`\n",
    "  - `densenet169-kather100k`\n",
    "  - `densenet201-kather100k`\n",
    "  - `mobilenet_v2-kather100k`\n",
    "  - `mobilenet_v3_large-kather100k`\n",
    "  - `mobilenet_v3_small-kather100k`\n",
    "  - `googlenet-kather100k`\n",
    "\n"
   ]
  },
  {
   "cell_type": "markdown",
   "metadata": {
    "id": "EPiF6kU5yiN0",
    "tags": [
     "remove-cell"
    ]
   },
   "source": [
    "## Setting up the environment\n",
    "\n",
    "You can skip the following cell if 1) you are not using the Colab plaform or 2) you are using Colab and this is not your first run of the notebook in the current runtime session. If you nevertheless run the cell, you may get an error message, but no harm will be done. On Colab the cell installs `tiatoolbox`, and other prerequisite software. Harmless error messages should be ignored. Outside Colab , the notebook expects `tiatoolbox` to already be installed. (See the instructions in [README](https://github.com/TIA-Lab/tiatoolbox/blob/master/README.md#install-python-package).)\n",
    "\n"
   ]
  },
  {
   "cell_type": "code",
   "execution_count": null,
   "metadata": {
    "id": "oCOSzUCUXnfh",
    "tags": [
     "remove-cell"
    ]
   },
   "outputs": [],
   "source": [
    "%%bash\n",
    "apt-get -y install libopenjp2-7-dev libopenjp2-tools openslide-tools libpixman-1-dev | tail -n 1\n",
    "pip install git+https://github.com/TissueImageAnalytics/tiatoolbox.git@develop | tail -n 1\n",
    "echo \"Installation is done.\""
   ]
  },
  {
   "cell_type": "markdown",
   "metadata": {
    "id": "evYgBG14yiN2",
    "tags": [
     "remove-cell"
    ]
   },
   "source": [
    "**IMPORTANT**: If you are running this notebook on Colab, then, after running the above cell for the first time, you need to restart the runtime in order to use the latest version of the packages used by TIAToolbox. To do this, you can click on the \"RESTART RUNTIME\" message that appears at the bottom of the cell, or use the menu *Runtime→Restart runtime*. Subsequently, you can use *Runtime→Run all*, **OR** *Runtime→Run after* **OR** run the cells one by one, as you prefer.\n",
    "\n"
   ]
  },
  {
   "cell_type": "markdown",
   "metadata": {
    "id": "bGp2XDMAX1GB"
   },
   "source": [
    "### Importing related libraries\n",
    "\n"
   ]
  },
  {
   "cell_type": "code",
   "execution_count": null,
   "metadata": {
    "id": "SNbdWfvnFtG5"
   },
   "outputs": [],
   "source": [
    "\"\"\"Import modules required to run the Jupyter notebook.\"\"\"\n",
    "from __future__ import annotations\n",
    "\n",
    "# Clear logger to use tiatoolbox.logger\n",
    "import logging\n",
    "\n",
    "if logging.getLogger().hasHandlers():\n",
    "    logging.getLogger().handlers.clear()\n",
    "\n",
    "import shutil\n",
    "import warnings\n",
    "from pathlib import Path\n",
    "from zipfile import ZipFile\n",
    "\n",
    "import matplotlib as mpl\n",
    "import matplotlib.pyplot as plt\n",
    "import numpy as np\n",
    "import pandas as pd\n",
    "import seaborn as sns\n",
    "from matplotlib import cm\n",
    "from sklearn.metrics import accuracy_score, confusion_matrix\n",
    "\n",
    "from tiatoolbox import logger\n",
    "from tiatoolbox.models.engine.patch_predictor import (\n",
    "    IOPatchPredictorConfig,\n",
    "    PatchPredictor,\n",
    ")\n",
    "from tiatoolbox.utils.misc import download_data, grab_files_from_dir, imread\n",
    "from tiatoolbox.utils.visualization import overlay_prediction_mask\n",
    "from tiatoolbox.wsicore.wsireader import WSIReader\n",
    "\n",
    "mpl.rcParams[\"figure.dpi\"] = 160  # for high resolution figure in notebook\n",
    "mpl.rcParams[\"figure.facecolor\"] = \"white\"  # To make sure text is visible in dark mode\n",
    "\n",
    "# If you are not using GPU, change ON_GPU to False\n",
    "ON_GPU = True"
   ]
  },
  {
   "cell_type": "markdown",
   "source": [
    "### Clean-up before a run\n",
    "\n",
    "To ensure proper clean-up (for example in abnormal termination), all files downloaded or created in this run are saved in a single directory `global_save_dir`, which we set equal to \"./tmp/\". To simplify maintenance, the name of the directory occurs only at this one place, so that it can easily be changed, if desired.\n",
    "\n"
   ],
   "metadata": {
    "collapsed": false
   }
  },
  {
   "cell_type": "code",
   "execution_count": null,
   "metadata": {
    "colab": {
     "base_uri": "https://localhost:8080/"
    },
    "id": "YibjAicoAVS1",
    "outputId": "0006363f-003a-42d2-ee34-25105b6339a4",
    "tags": [
     "remove-cell"
    ],
    "ExecuteTime": {
     "start_time": "2023-11-09T11:52:28.678065500Z"
    }
   },
   "outputs": [],
   "source": [
    "warnings.filterwarnings(\"ignore\")\n",
    "global_save_dir = Path(\"./tmp/\")\n",
    "\n",
    "\n",
    "def rmdir(dir_path: str | Path) -> None:\n",
    "    \"\"\"Helper function to delete directory.\"\"\"\n",
    "    if Path(dir_path).is_dir():\n",
    "        shutil.rmtree(dir_path)\n",
    "        logger.info(\"Removing directory %s\", dir_path)\n",
    "\n",
    "\n",
    "rmdir(global_save_dir)  # remove  directory if it exists from previous runs\n",
    "global_save_dir.mkdir()\n",
    "logger.info(\"Creating new directory %s\", global_save_dir)"
   ]
  },
  {
   "cell_type": "markdown",
   "metadata": {
    "id": "TlgYO3n0FtG6"
   },
   "source": [
    "### Downloading the data\n",
    "For our sample data, we will use one image tile and one whole-slide image from the validation subset of [Kather 100k](https://zenodo.org/record/1214456#.YJ-tn3mSkuU) dataset.\n",
    "\n",
    "Downloading the data is needed once in each Colab session, and it should take less than 1 minute.\n",
    "In Colab, if you click the file's icon (see below) in the vertical toolbar on the left-hand side then you can see all the files which the code in this notebook can access. The data will appear here when it is downloaded.\n",
    "\n",
    "![image.png](data:image/png;base64,iVBORw0KGgoAAAANSUhEUgAAACQAAAAlCAYAAAAqXEs9AAAAwElEQVRYhe3WMQ6DMAyFYa7q1Yfw7Dl3ICusZM0hzJpDMLtTGSoFNy2UVPIvvf3DYsignTXcDXjNQVYOsnKQlYOsDkHjOCoiKgBUl3P+DWhZlkPIVagqaJqmt0EAoDFGnefZXEpJt227HtQyZv4chIjKzKeMiHZU7Uom6OhrWhORHSQiDnKQg/oChRD6AjGzg/4L9PyHiEjXdT1lKaUdVEppA7W8h1qHiNUrfv1ibB0RVa9jgu7IQVYOsnKQVXegB/ZWYoL8lUCBAAAAAElFTkSuQmCC)\n",
    "\n"
   ]
  },
  {
   "cell_type": "code",
   "execution_count": null,
   "metadata": {
    "colab": {
     "base_uri": "https://localhost:8080/"
    },
    "id": "l7CzZGFHFtG6",
    "outputId": "39bd40d4-9f0c-4f0a-e18a-e7e982e8364e",
    "tags": [
     "hide-output"
    ],
    "ExecuteTime": {
     "start_time": "2023-11-09T11:52:28.680067200Z"
    }
   },
   "outputs": [],
   "source": [
    "img_file_name = global_save_dir / \"sample_tile.png\"\n",
    "wsi_file_name = global_save_dir / \"sample_wsi.svs\"\n",
    "patches_file_name = global_save_dir / \"kather100k-validation-sample.zip\"\n",
    "imagenet_samples_name = global_save_dir / \"imagenet_samples.zip\"\n",
    "\n",
    "logger.info(\"Download has started. Please wait...\")\n",
    "\n",
    "# Downloading sample image tile\n",
    "download_data(\n",
    "    \"https://tiatoolbox.dcs.warwick.ac.uk/sample_imgs/CRC-Prim-HE-05_APPLICATION.tif\",\n",
    "    img_file_name,\n",
    ")\n",
    "\n",
    "# Downloading sample whole-slide image\n",
    "download_data(\n",
    "    \"https://tiatoolbox.dcs.warwick.ac.uk/sample_wsis/TCGA-3L-AA1B-01Z-00-DX1.8923A151-A690-40B7-9E5A-FCBEDFC2394F.svs\",\n",
    "    wsi_file_name,\n",
    ")\n",
    "\n",
    "# Download a sample of the validation set used to train the Kather 100K dataset\n",
    "download_data(\n",
    "    \"https://tiatoolbox.dcs.warwick.ac.uk/datasets/kather100k-validation-sample.zip\",\n",
    "    patches_file_name,\n",
    ")\n",
    "# Unzip it!\n",
    "with ZipFile(patches_file_name, \"r\") as zipfile:\n",
    "    zipfile.extractall(path=global_save_dir)\n",
    "\n",
    "# Download some samples of imagenet to test the external models\n",
    "download_data(\n",
    "    \"https://tiatoolbox.dcs.warwick.ac.uk/sample_imgs/imagenet_samples.zip\",\n",
    "    imagenet_samples_name,\n",
    ")\n",
    "# Unzip it!\n",
    "with ZipFile(imagenet_samples_name, \"r\") as zipfile:\n",
    "    zipfile.extractall(path=global_save_dir)\n",
    "\n",
    "logger.info(\"Download is complete.\")"
   ]
  },
  {
   "cell_type": "markdown",
   "metadata": {
    "id": "qdaSTKE8FtG7"
   },
   "source": [
    "## Reading the data\n",
    "\n",
    "We create a list of patches and a list of corresponding labels.\n",
    "For example, the first label in `label_list` will indicate the class of the first image patch in `patch_list`.\n",
    "\n"
   ]
  },
  {
   "cell_type": "code",
   "execution_count": null,
   "metadata": {
    "colab": {
     "base_uri": "https://localhost:8080/",
     "height": 886
    },
    "id": "5sF4Q-6Px6IV",
    "outputId": "4c474a52-24ca-4947-9cf0-08dcfe960702",
    "ExecuteTime": {
     "start_time": "2023-11-09T11:52:28.682066200Z"
    }
   },
   "outputs": [],
   "source": [
    "# read the patch data and create a list of patches and a list of corresponding labels\n",
    "\n",
    "dataset_path = global_save_dir / \"kather100k-validation-sample\"\n",
    "\n",
    "# set the path to the dataset\n",
    "image_ext = \".tif\"  # file extension of each image\n",
    "\n",
    "# obtain the mapping between the label ID and the class name\n",
    "label_dict = {\n",
    "    \"BACK\": 0,\n",
    "    \"NORM\": 1,\n",
    "    \"DEB\": 2,\n",
    "    \"TUM\": 3,\n",
    "    \"ADI\": 4,\n",
    "    \"MUC\": 5,\n",
    "    \"MUS\": 6,\n",
    "    \"STR\": 7,\n",
    "    \"LYM\": 8,\n",
    "}\n",
    "class_names = list(label_dict.keys())\n",
    "class_labels = list(label_dict.values())\n",
    "\n",
    "# generate a list of patches and generate the label from the filename\n",
    "patch_list = []\n",
    "label_list = []\n",
    "for class_name, label in label_dict.items():\n",
    "    dataset_class_path = dataset_path / class_name\n",
    "    patch_list_single_class = grab_files_from_dir(\n",
    "        dataset_class_path,\n",
    "        file_types=\"*\" + image_ext,\n",
    "    )\n",
    "    patch_list.extend(patch_list_single_class)\n",
    "    label_list.extend([label] * len(patch_list_single_class))\n",
    "\n",
    "\n",
    "# show some dataset statistics\n",
    "plt.bar(class_names, [label_list.count(label) for label in class_labels])\n",
    "plt.xlabel(\"Patch types\")\n",
    "plt.ylabel(\"Number of patches\")\n",
    "\n",
    "# count the number of examples per class\n",
    "for class_name, label in label_dict.items():\n",
    "    logger.info(\n",
    "        \"Class ID: %d -- Class Name: %s -- Number of images: %d\",\n",
    "        label,\n",
    "        class_name,\n",
    "        label_list.count(label),\n",
    "    )\n",
    "\n",
    "\n",
    "# overall dataset statistics\n",
    "logger.info(\"Total number of patches: %d\", (len(patch_list)))"
   ]
  },
  {
   "cell_type": "markdown",
   "metadata": {
    "id": "r8tg66bu48Vh"
   },
   "source": [
    "As you can see for this patch dataset, we have 9 classes/labels with IDs 0-8 and associated class names. describing the dominant tissue type in the patch:\n",
    "\n",
    "- BACK ⟶ Background (empty glass region)\n",
    "- LYM  ⟶ Lymphocytes\n",
    "- NORM ⟶ Normal colon mucosa\n",
    "- DEB  ⟶ Debris\n",
    "- MUS  ⟶ Smooth muscle\n",
    "- STR  ⟶ Cancer-associated stroma\n",
    "- ADI  ⟶ Adipose\n",
    "- MUC  ⟶ Mucus\n",
    "- TUM  ⟶ Colorectal adenocarcinoma epithelium\n",
    "\n"
   ]
  },
  {
   "cell_type": "markdown",
   "metadata": {
    "id": "VNpCaGiEUvC_"
   },
   "source": [
    "## Predict patch labels \n",
    "\n",
    "We create a predictor object and then call the `predict` method.\n",
    "\n"
   ]
  },
  {
   "cell_type": "code",
   "execution_count": null,
   "metadata": {
    "colab": {
     "base_uri": "https://localhost:8080/"
    },
    "id": "67mRB_YHVXtg",
    "outputId": "0f88aace-3213-4c49-b0d1-23ce77ba4514",
    "tags": [
     "hide-output"
    ],
    "ExecuteTime": {
     "start_time": "2023-11-09T11:52:28.685064100Z"
    }
   },
   "outputs": [],
   "source": [
    "predictor = PatchPredictor(pretrained_model=\"resnet18-kather100k\", batch_size=32)\n",
    "output = predictor.predict(imgs=patch_list, mode=\"patch\", on_gpu=ON_GPU)"
   ]
  },
  {
   "cell_type": "markdown",
   "metadata": {
    "id": "vkgUY45WdcxI"
   },
   "source": [
    "\n",
    "The PatchPredictor class defines a CNN-based classifier. \n",
    "\n",
    "- `pretrained_model` argument specifies the CNN model that performs the prediction, and it must be one of the models listed [here](https://tia-toolbox.readthedocs.io/en/latest/usage.html?highlight=pretrained%20models#tiatoolbox.models.architecture.get_pretrained_model). To use your own PyTorch model, pass it as the `model` argument.\n",
    "- `model` can be any trained PyTorch model with the constraint that the it should follow the `tiatoolbox.models.abc.ModelABC` class structure. For more information on this matter, please refer to [example notebook on advanced model techniques](https://github.com/TissueImageAnalytics/tiatoolbox/blob/develop/examples/07-advanced-modeling.ipynb).\n",
    "\n",
    "- `pretrained_weight`: When using a `pretrained_model`, the corresponding pretrained weights will also be downloaded by default.  You can override the default with your own set of weights via the `pretrained_weight` argument.\n",
    "- `batch_size`: Number of images fed into the model each time. Higher values for this parameter require a larger (GPU) memory capacity.\n",
    "\n",
    "\n",
    "The `predict` method applies the CNN on the input patches and get the results. Here are the arguments and their descriptions:\n",
    "\n",
    "- `mode`: Type of input to be processed. Choose from `patch`, `tile` or `wsi` according to your application. In this first example, we predict the tissue type of histology patches, so we use the `patch` option. The use of `tile` and `wsi` options are explained below.\n",
    "- `imgs`: List of inputs. When using `patch` mode, the input must be a list of images OR a list of image file paths, OR a Numpy array corresponding to an image list. However, for the `tile` and `wsi` modes, the `imgs` argument should be a list of paths to the input tiles or WSIs.\n",
    "- `return_probabilities`: set to *__True__* to get per class probabilities alongside predicted labels of input patches. If you wish to merge the predictions to generate prediction maps for `tile` or `wsi` modes, you can set `return_probabilities=True`.\n",
    "\n",
    "In the `patch` prediction mode, the `predict` method returns an output dictionary that contains the `predictions` (predicted labels) and `probabilities` (probability that a certain patch belongs to a  certain class).\n",
    "\n",
    " \n",
    "\n"
   ]
  },
  {
   "cell_type": "markdown",
   "source": [
    "## Evaluate the prediction\n",
    "\n",
    "We compute the classification accuracy and confusion matrix."
   ],
   "metadata": {
    "collapsed": false
   }
  },
  {
   "cell_type": "code",
   "execution_count": null,
   "metadata": {
    "colab": {
     "base_uri": "https://localhost:8080/",
     "height": 700
    },
    "id": "KPwyDMCFdcWw",
    "outputId": "edced343-3282-4ea8-ebde-c62a23313271",
    "ExecuteTime": {
     "start_time": "2023-11-09T11:52:28.687064200Z"
    }
   },
   "outputs": [],
   "source": [
    "acc = accuracy_score(label_list, output[\"predictions\"])\n",
    "logger.info(\"Classification accuracy: %f\", acc)\n",
    "\n",
    "# Creating and visualizing the confusion matrix for patch classification results\n",
    "conf = confusion_matrix(label_list, output[\"predictions\"], normalize=\"true\")\n",
    "df_cm = pd.DataFrame(conf, index=class_names, columns=class_names)\n",
    "\n",
    "# show confusion matrix\n",
    "sns.heatmap(df_cm, cmap=\"Blues\", annot=True, fmt=\".0%\")\n",
    "plt.show()"
   ]
  },
  {
   "cell_type": "markdown",
   "metadata": {
    "id": "XtgKKOEGVews"
   },
   "source": [
    "Try changing the `pretrained_model` argument when making `PatchPredictor` instant and see how it can affect the classification output accuracy.\n",
    "\n"
   ]
  },
  {
   "cell_type": "markdown",
   "metadata": {
    "id": "SXeRvtXBFtG7"
   },
   "source": [
    "## Get predictions for patches within an image tile\n",
    "\n",
    "We now demonstrate how to obtain patch-level predictions for a large image tile. It is quite a common practice in computational pathology to divide a large image into several patches (often overlapping) and then aggregate the results to generate a prediction map for different regions of the large image. As we are making a prediction per patch again, there is no need to instantiate a new `PatchPredictor` class. However, we should tune the `predict` input arguments to make them suitable for tile prediction. The `predict` function then automatically extracts patches from the large image tile and predicts the label for each of them. As the `predict` function can accept multiple tiles in the input to be processed and each input tile has potentially many patches, we save results in a file when more than one image is provided. This is done to avoid any problems with limited computer memory. However, if only one image is provided, the results will be returned as in `patch` mode.\n",
    "\n",
    "Now, we try this function on a sample image tile. For this example, we use a tile that was released with the [Kather et al. 2016](https://doi.org/10.1038/srep27988) paper. It has been already downloaded in the Download section of this notebook.\n",
    "\n"
   ]
  },
  {
   "cell_type": "code",
   "execution_count": null,
   "metadata": {
    "colab": {
     "base_uri": "https://localhost:8080/",
     "height": 657
    },
    "id": "Me1x4O5nXWNV",
    "outputId": "101c8c80-632c-47ed-b985-6322d9984d7f",
    "ExecuteTime": {
     "start_time": "2023-11-09T11:52:28.688063500Z"
    }
   },
   "outputs": [],
   "source": [
    "# reading and displaying a tile image\n",
    "input_tile = imread(img_file_name)\n",
    "\n",
    "plt.imshow(input_tile)\n",
    "plt.axis(\"off\")\n",
    "plt.show()\n",
    "\n",
    "logger.info(\n",
    "    \"Tile size is: (%d, %d, %d)\",\n",
    "    input_tile.shape[0],\n",
    "    input_tile.shape[1],\n",
    "    input_tile.shape[2],\n",
    ")"
   ]
  },
  {
   "cell_type": "markdown",
   "metadata": {
    "id": "uoTL_e5Wl0Pn"
   },
   "source": [
    "## Patch-level prediction for big histology tiles\n",
    "\n",
    "Although the tile image is quite large (5000x5000 pixels), the PatchPredictor class can seamlessly process it by predicting on small patches independently. This avoids computer memory problems. To use this feature, simply change the arguments as below:\n",
    "\n"
   ]
  },
  {
   "cell_type": "code",
   "execution_count": null,
   "metadata": {
    "colab": {
     "base_uri": "https://localhost:8080/"
    },
    "id": "AtpW17xglykK",
    "outputId": "88112c16-7a92-491e-c8b5-69a54aa06e54",
    "tags": [
     "hide-output"
    ],
    "ExecuteTime": {
     "start_time": "2023-11-09T11:52:28.691064300Z"
    }
   },
   "outputs": [],
   "source": [
    "rmdir(global_save_dir / \"tile_predictions\")\n",
    "img_file_name = Path(img_file_name)\n",
    "\n",
    "predictor = PatchPredictor(pretrained_model=\"resnet18-kather100k\", batch_size=32)\n",
    "tile_output = predictor.predict(\n",
    "    imgs=[img_file_name],\n",
    "    mode=\"tile\",\n",
    "    merge_predictions=True,\n",
    "    patch_input_shape=[224, 224],\n",
    "    stride_shape=[224, 224],\n",
    "    resolution=1,\n",
    "    units=\"baseline\",\n",
    "    return_probabilities=True,\n",
    "    save_dir=global_save_dir / \"tile_predictions\",\n",
    "    on_gpu=ON_GPU,\n",
    ")"
   ]
  },
  {
   "cell_type": "markdown",
   "metadata": {
    "id": "7MvSaH91pTK8"
   },
   "source": [
    "The new arguments in the input of `predict` method are:\n",
    "\n",
    "- `mode='tile'`: the type of image input. We use `tile` since our input is a large image tile.\n",
    "- `imgs`: in tile mode, the input is *required* to be a list of file paths.\n",
    "- `save_dir`:  Output directory when processing multiple tiles. We explained before why this is necessary when we are working with multiple big tiles.\n",
    "- `patch_size`: This parameter sets the size of patches (in \\[W, H\\] format) to be extracted from the input files, and for which labels will be predicted.\n",
    "- `stride_size`: The stride (in \\[W, H\\] format) to consider when extracting patches from the tile. Using a stride smaller than the patch size results in overlapping between consecutive patches.\n",
    "- `labels` (optional): List of labels with the same size as `imgs` that refers to the label of each input tile (not to be confused with the prediction of each patch).\n",
    "\n",
    "In this example, we input only one tile. Therefore the toolbox does not save the output as files and instead returns a list that contains an output dictionary with the following keys:\n",
    "\n",
    "- `coordinates`: List of coordinates of extracted patches in the following format: `[x_min, y_min, x_max, y_max]`. These coordinates can be used to later extract the same region from the input tile/WSI or regenerate a prediction map based on the `prediction` labels for each patch\n",
    "- `predictions`: List of predicted labels for each of the tile's patches.\n",
    "- `label`: Label of the tile generalized to each patch.\n",
    "\n",
    "If we had several items in the `imgs` input, the result would be saved in JSON format to the specified `save_dir` and the returned output will be a list of paths to each of the saved JSON files.\n"
   ]
  },
  {
   "cell_type": "markdown",
   "metadata": {
    "id": "FCxf-TXiar7N"
   },
   "source": [
    "### Visualisation of tile results\n",
    "\n",
    "Below we will show some of the results generated by our patch-level predictor on the input image tile. First, we will show some individual patch predictions and then we will show the merged patch level results on the entire image tile.\n",
    "\n"
   ]
  },
  {
   "cell_type": "code",
   "execution_count": null,
   "metadata": {
    "colab": {
     "base_uri": "https://localhost:8080/",
     "height": 673
    },
    "id": "Eft1TtfgpKOm",
    "outputId": "62c3a2e9-8852-4929-80ca-3aa768714518",
    "ExecuteTime": {
     "start_time": "2023-11-09T11:52:28.693064600Z"
    }
   },
   "outputs": [],
   "source": [
    "# individual patch predictions sampled from the image tile\n",
    "\n",
    "# extract the information from output dictionary\n",
    "coordinates = tile_output[0][\"coordinates\"]\n",
    "predictions = tile_output[0][\"predictions\"]\n",
    "\n",
    "# select 4 random indices (patches)\n",
    "rng = np.random.default_rng()  # Numpy Random Generator\n",
    "random_idx = rng.integers(0, len(predictions), (4,))\n",
    "\n",
    "for i, idx in enumerate(random_idx):\n",
    "    this_coord = coordinates[idx]\n",
    "    this_prediction = predictions[idx]\n",
    "    this_class = class_names[this_prediction]\n",
    "\n",
    "    this_patch = input_tile[\n",
    "        this_coord[1] : this_coord[3],\n",
    "        this_coord[0] : this_coord[2],\n",
    "    ]\n",
    "    plt.subplot(2, 2, i + 1), plt.imshow(this_patch)\n",
    "    plt.axis(\"off\")\n",
    "    plt.title(this_class)"
   ]
  },
  {
   "cell_type": "markdown",
   "metadata": {
    "id": "TocLP9Bcr4A4"
   },
   "source": [
    "To visualize the prediction map, we overlay it on the original image. The prediction map is generated by calling the `merge_predictions` method from the `PatchPredictor` class. This method takes as arguments the path of the original image, `predictor` outputs, `mode` (set to `tile` or `wsi`), `tile_resolution` (at which tiles were originally extracted)  and `resolution` (at which the prediction map is generated). The output shows different predicted category with different colours.\n",
    "\n",
    "To visualize the prediction map as an overlay on the input image, we use the `overlay_prediction_mask` function from the `tiatoolbox.utils.visualization` module. It accepts as arguments the original image, the prediction map, the `alpha` parameter which specifies the blending ratio of overlay and original image, and the `label_info` dictionary which contains names and desired colours for different classes. Below we generate an example of an acceptable `label_info` dictionary and show how it can be used with `overlay_patch_prediction`.\n",
    "\n"
   ]
  },
  {
   "cell_type": "code",
   "execution_count": null,
   "metadata": {
    "colab": {
     "base_uri": "https://localhost:8080/",
     "height": 692
    },
    "id": "fAQPefwS1GTe",
    "outputId": "19f66aff-8b89-49ba-f4f6-78387c84a403",
    "ExecuteTime": {
     "start_time": "2023-11-09T11:52:28.694065700Z"
    }
   },
   "outputs": [],
   "source": [
    "# visualization of merged image tile patch-level prediction.\n",
    "\n",
    "tile_output[0][\"resolution\"] = 1.0\n",
    "tile_output[0][\"units\"] = \"baseline\"\n",
    "\n",
    "label_color_dict = {}\n",
    "label_color_dict[0] = (\"empty\", (0, 0, 0))\n",
    "colors = cm.get_cmap(\"Set1\").colors\n",
    "for class_name, label in label_dict.items():\n",
    "    label_color_dict[label + 1] = (class_name, 255 * np.array(colors[label]))\n",
    "pred_map = predictor.merge_predictions(\n",
    "    img_file_name,\n",
    "    tile_output[0],\n",
    "    resolution=1,\n",
    "    units=\"baseline\",\n",
    ")\n",
    "overlay = overlay_prediction_mask(\n",
    "    input_tile,\n",
    "    pred_map,\n",
    "    alpha=0.5,\n",
    "    label_info=label_color_dict,\n",
    "    return_ax=True,\n",
    ")\n",
    "plt.show()"
   ]
  },
  {
   "cell_type": "markdown",
   "metadata": {
    "id": "qv4SBdcM6GiT"
   },
   "source": [
    "Note that `overlay_prediction_mask` returns a figure handler, so that `plt.show()` or `plt.savefig()` shows or, respectively, saves the overlay figure generated. Now go back and predict with a different `stride_size` or `pretrained_model` to see what effect this has on the output.\n",
    "\n"
   ]
  },
  {
   "cell_type": "markdown",
   "metadata": {
    "id": "UxBdhIE-FtG7"
   },
   "source": [
    "## Get predictions for patches within a WSI\n",
    "\n",
    "We demonstrate how to obtain predictions for all patches within a     whole-slide image. As in previous sections, we will use `PatchPredictor` and its `predict` method, but this time we set the `mode` to `'wsi'`. We also introduce `IOPatchPredictorConfig`, a class that specifies the configuration of image reading and prediction writing for the model prediction engine.\n",
    "\n"
   ]
  },
  {
   "cell_type": "code",
   "execution_count": null,
   "metadata": {
    "id": "9Kp1kx7wmOYq"
   },
   "outputs": [],
   "source": [
    "wsi_ioconfig = IOPatchPredictorConfig(\n",
    "    input_resolutions=[{\"units\": \"mpp\", \"resolution\": 0.5}],\n",
    "    patch_input_shape=[224, 224],\n",
    "    stride_shape=[224, 224],\n",
    ")"
   ]
  },
  {
   "cell_type": "markdown",
   "metadata": {
    "id": "h94mfQXfF3lb"
   },
   "source": [
    "Parameters of `IOPatchPredictorConfig` are defined as:\n",
    "\n",
    "- `input_resolutions`: a list specifying the resolution of each input head of model in the form of a dictionary. List elements must be in the same order as target `model.forward()`. If your model accepts only one input, you just need to put one dictionary specifying `'units'` and `'resolution'`. Note that TIAToolbox supports a model with more than one input.\n",
    "- `patch_input_shape`: Shape of the largest input in (height, width) format.\n",
    "- `stride_shape`: the size of stride (steps) between two consecutive patches, used in the patch extraction process. If the user sets `stride_shape` equal to `patch_input_shape`, patches will be extracted and processed without any overlap.\n",
    "\n",
    "Since we are using a large WSI the patch extraction and prediction processes may take some time (make sure to set the `ON_GPU=True` if you have access to Cuda enabled GPU and Pytorch+Cuda).\n",
    "\n"
   ]
  },
  {
   "cell_type": "code",
   "execution_count": null,
   "metadata": {
    "colab": {
     "base_uri": "https://localhost:8080/"
    },
    "id": "dlQu5878FtG8",
    "outputId": "eb7daaa6-ca9a-4178-82a7-db197bfec8c3",
    "tags": [
     "hide-output"
    ],
    "ExecuteTime": {
     "start_time": "2023-11-09T11:52:28.737066600Z"
    }
   },
   "outputs": [],
   "source": [
    "predictor = PatchPredictor(pretrained_model=\"resnet18-kather100k\", batch_size=64)\n",
    "wsi_output = predictor.predict(\n",
    "    imgs=[wsi_file_name],\n",
    "    masks=None,\n",
    "    mode=\"wsi\",\n",
    "    merge_predictions=False,\n",
    "    ioconfig=wsi_ioconfig,\n",
    "    return_probabilities=True,\n",
    "    save_dir=global_save_dir / \"wsi_predictions\",\n",
    "    on_gpu=ON_GPU,\n",
    ")"
   ]
  },
  {
   "cell_type": "markdown",
   "metadata": {
    "id": "N8_S93fSVaFS"
   },
   "source": [
    "We introduce some new arguments for `predict` method:\n",
    "\n",
    "- `mode`: set to 'wsi' when analysing whole slide images.\n",
    "- `ioconfig`: set the IO configuration information using the `IOPatchPredictorConfig` class.\n",
    "- `resolution` and `unit` (not shown above): These arguments specify the level or micron-per-pixel resolution of the WSI levels from which we plan to extract patches and can be used instead of `ioconfig`. Here we specify the WSI's level as `'baseline'`, which is equivalent to level 0. In general, this is the level of greatest resolution. In this particular case, the image has only one level. More information can be found in the [documentation](https://tia-toolbox.readthedocs.io/en/latest/usage.html?highlight=WSIReader.read_rect#tiatoolbox.wsicore.wsireader.WSIReader.read_rect).\n",
    "- `masks`: A list of paths corresponding to the masks of WSIs in the     `imgs` list. These masks specify the regions in the original WSIs from which we want to extract patches. If the mask of a particular WSI is specified as `None`, then the labels for all patches of that WSI (even background regions)  would be predicted. This could cause unnecessary computation.\n",
    "- `merge_predictions`: You can set this parameter to `True` if you wish to generate a 2D map of patch classification results. However, for big WSIs you might need a large amount of memory available to do this on the file. An alternative (default) solution is to set `merge_predictions=False`, and then generate the 2D prediction maps using `merge_predictions` function as you will see later on.\n",
    "\n",
    "\n",
    "We see how the prediction model works on our whole-slide images by visualizing the `wsi_output`. We first need to merge patch prediction outputs and then visualize them as an overlay on the original image. As before, the `merge_predictions` method is used to merge the patch predictions. Here we set the parameters `resolution=1.25, units='power'` to generate the prediction map at 1.25x magnification. If you would like to have higher/lower resolution (bigger/smaller) prediction maps, you need to change these parameters accordingly. When the predictions are merged, use the `overlay_patch_prediction` function to overlay the prediction map on the WSI thumbnail, which should be extracted at the same resolution used for prediction merging. \n",
    "\n"
   ]
  },
  {
   "cell_type": "code",
   "execution_count": null,
   "metadata": {
    "colab": {
     "base_uri": "https://localhost:8080/",
     "height": 1000
    },
    "id": "WF_vY2B4i1yi",
    "outputId": "04feef1f-6754-4181-c8a7-20afb35b345c",
    "ExecuteTime": {
     "start_time": "2023-11-09T11:52:28.739065900Z"
    }
   },
   "outputs": [],
   "source": [
    "# visualization of whole-slide image patch-level prediction\n",
    "overview_resolution = (\n",
    "    4  # the resolution in which we desire to merge and visualize the patch predictions\n",
    ")\n",
    "\n",
    "# the unit of the `resolution` parameter. Can be \"power\", \"level\", \"mpp\", or \"baseline\"\n",
    "overview_unit = \"mpp\"\n",
    "wsi = WSIReader.open(wsi_file_name)\n",
    "wsi_overview = wsi.slide_thumbnail(resolution=overview_resolution, units=overview_unit)\n",
    "plt.figure(), plt.imshow(wsi_overview)\n",
    "plt.axis(\"off\")\n",
    "\n",
    "pred_map = predictor.merge_predictions(\n",
    "    wsi_file_name,\n",
    "    wsi_output[0],\n",
    "    resolution=overview_resolution,\n",
    "    units=overview_unit,\n",
    ")\n",
    "overlay = overlay_prediction_mask(\n",
    "    wsi_overview,\n",
    "    pred_map,\n",
    "    alpha=0.5,\n",
    "    label_info=label_color_dict,\n",
    "    return_ax=True,\n",
    ")\n",
    "plt.show()"
   ]
  },
  {
   "cell_type": "markdown",
   "metadata": {
    "id": "J_1pb6BGGbVu"
   },
   "source": [
    "In this notebook, we show how we can use the `PatchPredictor` class and its `predict` method to predict the label for patches of big tiles and WSIs. We introduce `merge_predictions` and `overlay_prediction_mask` helper functions that merge the patch prediction outputs and visualize the resulting prediction map as an overlay on the input image/WSI.\n",
    "\n",
    "We encourage you to further investigate the effect on the prediction output of changing `predict` function parameters. Furthermore, if you want to use your own pretrained model for patch classification in the TIAToolbox framework (even if the model structure is not defined in the TIAToolbox model class), you can follow the instructions in the example notebook on [advanced model techniques](https://github.com/TissueImageAnalytics/tiatoolbox/blob/develop/examples/07-advanced-modeling.ipynb) to gain some insights and guidance.\n",
    "\n"
   ]
  }
 ],
 "metadata": {
  "accelerator": "GPU",
  "celltoolbar": "Edit Metadata",
  "colab": {
   "name": "05-patch-prediction.ipynb",
   "provenance": []
  },
  "gpuClass": "standard",
  "kernelspec": {
   "display_name": "Python 3 (ipykernel)",
   "language": "python",
   "name": "python3"
  },
  "language_info": {
   "codemirror_mode": {
    "name": "ipython",
    "version": 3
   },
   "file_extension": ".py",
   "mimetype": "text/x-python",
   "name": "python",
   "nbconvert_exporter": "python",
   "pygments_lexer": "ipython3",
   "version": "3.9.17"
  }
 },
 "nbformat": 4,
 "nbformat_minor": 0
}
